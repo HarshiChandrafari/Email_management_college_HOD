{
  "cells": [
    {
      "cell_type": "code",
      "execution_count": 36,
      "metadata": {
        "id": "JgjqvQZewuYm"
      },
      "outputs": [],
      "source": [
        "from bs4 import BeautifulSoup\n",
        "from html import unescape\n",
        "import pandas as pd\n",
        "from gensim.utils import simple_preprocess\n",
        "import gensim\n",
        "import spacy\n",
        "import numpy as np\n",
        "import tensorflow as tf\n",
        "from tensorflow.keras.utils import to_categorical\n",
        "from tensorflow.keras.preprocessing.sequence import pad_sequences\n",
        "from sklearn.metrics import precision_score, recall_score, confusion_matrix\n",
        "import pickle\n"
      ]
    },
    {
      "cell_type": "code",
      "execution_count": 65,
      "metadata": {},
      "outputs": [
        {
          "name": "stdout",
          "output_type": "stream",
          "text": [
            "2.16.1\n"
          ]
        }
      ],
      "source": [
        "print(tf.__version__)"
      ]
    },
    {
      "cell_type": "code",
      "execution_count": 28,
      "metadata": {
        "id": "TdXQXIvDwuYo"
      },
      "outputs": [],
      "source": [
        "train_data_csv = \"Data/train.csv\" # Path to the training data\n",
        "test_data_csv = \"Data/test.csv\" # Path to the test data\n",
        "train_data = pd.read_csv(train_data_csv)\n",
        "test_data = pd.read_csv(test_data_csv)\n"
      ]
    },
    {
      "cell_type": "code",
      "execution_count": 29,
      "metadata": {
        "id": "GURYtVnqwuYo"
      },
      "outputs": [],
      "source": [
        "def semi_clean_data(data):\n",
        "    semi_clean_data = []\n",
        "    for i in range(len(data)):\n",
        "        email_body = str(data['body'][i]) # Extract the email body\n",
        "        email_body = unescape(email_body)  # Convert HTML entities to unicode\n",
        "        email_body = BeautifulSoup(email_body) # Remove HTML tags\n",
        "        semi_clean_email_body = email_body.get_text() # Extract the text from the email body\n",
        "        semi_clean_data.append(semi_clean_email_body)\n",
        "    return semi_clean_data"
      ]
    },
    {
      "cell_type": "code",
      "execution_count": 30,
      "metadata": {
        "colab": {
          "base_uri": "https://localhost:8080/"
        },
        "id": "JZBdmvK0wuYp",
        "outputId": "dc31ae7c-257f-4c4b-f79b-9e6c66634454"
      },
      "outputs": [
        {
          "name": "stderr",
          "output_type": "stream",
          "text": [
            "c:\\Users\\dhruv\\AppData\\Local\\Programs\\Python\\Python310\\lib\\site-packages\\bs4\\__init__.py:435: MarkupResemblesLocatorWarning: The input looks more like a filename than markup. You may want to open this file and pass the filehandle into Beautiful Soup.\n",
            "  warnings.warn(\n",
            "c:\\Users\\dhruv\\AppData\\Local\\Programs\\Python\\Python310\\lib\\site-packages\\bs4\\__init__.py:404: MarkupResemblesLocatorWarning: The input looks more like a URL than markup. You may want to use an HTTP client like requests to get the document behind the URL, and feed that document to Beautiful Soup.\n",
            "  warnings.warn(\n"
          ]
        }
      ],
      "source": [
        "semi_clean_train_data = semi_clean_data(train_data) # Semi-clean the training data\n",
        "semi_clean_test_data = semi_clean_data(test_data) # Semi-clean the test data\n",
        "train_data['semi_clean_body'] = semi_clean_train_data\n",
        "test_data['semi_clean_body'] = semi_clean_test_data"
      ]
    },
    {
      "cell_type": "code",
      "execution_count": 31,
      "metadata": {
        "colab": {
          "base_uri": "https://localhost:8080/"
        },
        "id": "2BUI3OL_wuYp",
        "outputId": "ed0af9df-d922-4b24-bf85-26f79cdfe9e2"
      },
      "outputs": [
        {
          "name": "stderr",
          "output_type": "stream",
          "text": [
            "ERROR: Invalid requirement: '#': Expected package name at the start of dependency specifier\n",
            "    #\n",
            "    ^\n"
          ]
        }
      ],
      "source": [
        "!python -m spacy download en_core_web_sm # Download the English model for spacy"
      ]
    },
    {
      "cell_type": "code",
      "execution_count": 32,
      "metadata": {
        "id": "rxW3QCd_wuYq"
      },
      "outputs": [],
      "source": [
        "def clean_data(data):\n",
        "    clean_data = []\n",
        "    nlp = spacy.load('en_core_web_sm') # Load the English model for spacy\n",
        "    for i in range(len(data)):\n",
        "        semi_clean_email_body = data['semi_clean_body'][i]\n",
        "        tokens_no_sw = [token for token in simple_preprocess(semi_clean_email_body) if token not in gensim.parsing.preprocessing.STOPWORDS] # Remove stopwords\n",
        "        clean_email_body = nlp(\" \".join(tokens_no_sw)) # Lemmatize the email body\n",
        "        clean_data.append(str(clean_email_body))\n",
        "    return clean_data"
      ]
    },
    {
      "cell_type": "code",
      "execution_count": 33,
      "metadata": {
        "colab": {
          "base_uri": "https://localhost:8080/"
        },
        "id": "ZqeTMQp8wuYq",
        "outputId": "9613900d-a467-4840-dbf6-c9b8f2e24bb3"
      },
      "outputs": [],
      "source": [
        "train_data['clean_body'] = clean_data(train_data) # Clean the training data\n",
        "test_data['clean_body'] = clean_data(test_data) # Clean the test data"
      ]
    },
    {
      "cell_type": "code",
      "execution_count": 35,
      "metadata": {
        "id": "d4YbUtsxwuYq"
      },
      "outputs": [],
      "source": [
        "# Vectorizataion of the data\n",
        "encoder = tf.keras.layers.TextVectorization(max_tokens=10000) # Vectorize the data\n",
        "encoder.adapt(train_data['clean_body'].values) # Fit the encoder on the training data\n",
        "encoded_train_data = encoder(train_data['clean_body'].values) # Encode the training data\n",
        "train_data['encoded_data'] = encoded_train_data.numpy().tolist() # Convert the encoded data to a list\n",
        "test_data['encoded_data'] = encoder(test_data['clean_body'].values).numpy().tolist() # Encode the test data"
      ]
    },
    {
      "cell_type": "code",
      "execution_count": 37,
      "metadata": {},
      "outputs": [],
      "source": [
        "pickle.dump({'config': encoder.get_config(),\n",
        "             'weights': encoder.get_weights()}\n",
        "            , open(\"tv_layer.pkl\", \"wb\"))"
      ]
    },
    {
      "cell_type": "code",
      "execution_count": 9,
      "metadata": {
        "id": "Ybu0urXDwuYq"
      },
      "outputs": [],
      "source": [
        "#Model Params\n",
        "input_dim = len(encoder.get_vocabulary())\n",
        "input_shape = (len(train_data), )\n",
        "output_len = 4\n",
        "embedding_dim = 64\n",
        "lstm_layer1_size = 64\n",
        "lstm_layer2_size = 32\n",
        "dense_layer1_size = 64\n",
        "activation = 'relu'\n",
        "num_epochs = 25\n"
      ]
    },
    {
      "cell_type": "code",
      "execution_count": 10,
      "metadata": {
        "colab": {
          "base_uri": "https://localhost:8080/"
        },
        "id": "xXth2UGWwuYq",
        "outputId": "660a9ee9-62d5-41d2-bf57-9cffe15ddd41"
      },
      "outputs": [
        {
          "name": "stderr",
          "output_type": "stream",
          "text": [
            "/home/zeus/miniconda3/envs/cloudspace/lib/python3.10/site-packages/keras/src/layers/core/embedding.py:93: UserWarning: Do not pass an `input_shape`/`input_dim` argument to a layer. When using Sequential models, prefer using an `Input(shape)` object as the first layer in the model instead.\n",
            "  super().__init__(**kwargs)\n"
          ]
        }
      ],
      "source": [
        "#Model\n",
        "model = tf.keras.Sequential([\n",
        "\n",
        "    tf.keras.layers.Embedding(input_dim=input_dim, output_dim=embedding_dim, input_shape=input_shape), # Embedding layer\n",
        "    tf.keras.layers.Bidirectional(tf.keras.layers.LSTM(lstm_layer1_size, return_sequences=True)), # Bidirectional LSTM layer\n",
        "    tf.keras.layers.Bidirectional(tf.keras.layers.LSTM(lstm_layer2_size)), # Bidirectional LSTM layer\n",
        "    tf.keras.layers.Dense(dense_layer1_size, activation=activation), # Dense layer\n",
        "    tf.keras.layers.Dense(output_len, activation='softmax') # Dense Output layer\n",
        "])"
      ]
    },
    {
      "cell_type": "code",
      "execution_count": 11,
      "metadata": {
        "colab": {
          "base_uri": "https://localhost:8080/",
          "height": 340
        },
        "id": "WraiWrP5wuYq",
        "outputId": "a65c3769-c551-4c1a-d726-1231c190453e"
      },
      "outputs": [
        {
          "data": {
            "text/html": [
              "<pre style=\"white-space:pre;overflow-x:auto;line-height:normal;font-family:Menlo,'DejaVu Sans Mono',consolas,'Courier New',monospace\"><span style=\"font-weight: bold\">Model: \"sequential\"</span>\n",
              "</pre>\n"
            ],
            "text/plain": [
              "\u001b[1mModel: \"sequential\"\u001b[0m\n"
            ]
          },
          "metadata": {},
          "output_type": "display_data"
        },
        {
          "data": {
            "text/html": [
              "<pre style=\"white-space:pre;overflow-x:auto;line-height:normal;font-family:Menlo,'DejaVu Sans Mono',consolas,'Courier New',monospace\">┏━━━━━━━━━━━━━━━━━━━━━━━━━━━━━━━━━┳━━━━━━━━━━━━━━━━━━━━━━━━┳━━━━━━━━━━━━━━━┓\n",
              "┃<span style=\"font-weight: bold\"> Layer (type)                    </span>┃<span style=\"font-weight: bold\"> Output Shape           </span>┃<span style=\"font-weight: bold\">       Param # </span>┃\n",
              "┡━━━━━━━━━━━━━━━━━━━━━━━━━━━━━━━━━╇━━━━━━━━━━━━━━━━━━━━━━━━╇━━━━━━━━━━━━━━━┩\n",
              "│ embedding (<span style=\"color: #0087ff; text-decoration-color: #0087ff\">Embedding</span>)           │ (<span style=\"color: #00d7ff; text-decoration-color: #00d7ff\">None</span>, <span style=\"color: #00af00; text-decoration-color: #00af00\">2500</span>, <span style=\"color: #00af00; text-decoration-color: #00af00\">64</span>)       │       <span style=\"color: #00af00; text-decoration-color: #00af00\">640,000</span> │\n",
              "├─────────────────────────────────┼────────────────────────┼───────────────┤\n",
              "│ bidirectional (<span style=\"color: #0087ff; text-decoration-color: #0087ff\">Bidirectional</span>)   │ (<span style=\"color: #00d7ff; text-decoration-color: #00d7ff\">None</span>, <span style=\"color: #00af00; text-decoration-color: #00af00\">2500</span>, <span style=\"color: #00af00; text-decoration-color: #00af00\">128</span>)      │        <span style=\"color: #00af00; text-decoration-color: #00af00\">66,048</span> │\n",
              "├─────────────────────────────────┼────────────────────────┼───────────────┤\n",
              "│ bidirectional_1 (<span style=\"color: #0087ff; text-decoration-color: #0087ff\">Bidirectional</span>) │ (<span style=\"color: #00d7ff; text-decoration-color: #00d7ff\">None</span>, <span style=\"color: #00af00; text-decoration-color: #00af00\">64</span>)             │        <span style=\"color: #00af00; text-decoration-color: #00af00\">41,216</span> │\n",
              "├─────────────────────────────────┼────────────────────────┼───────────────┤\n",
              "│ dense (<span style=\"color: #0087ff; text-decoration-color: #0087ff\">Dense</span>)                   │ (<span style=\"color: #00d7ff; text-decoration-color: #00d7ff\">None</span>, <span style=\"color: #00af00; text-decoration-color: #00af00\">64</span>)             │         <span style=\"color: #00af00; text-decoration-color: #00af00\">4,160</span> │\n",
              "├─────────────────────────────────┼────────────────────────┼───────────────┤\n",
              "│ dense_1 (<span style=\"color: #0087ff; text-decoration-color: #0087ff\">Dense</span>)                 │ (<span style=\"color: #00d7ff; text-decoration-color: #00d7ff\">None</span>, <span style=\"color: #00af00; text-decoration-color: #00af00\">4</span>)              │           <span style=\"color: #00af00; text-decoration-color: #00af00\">260</span> │\n",
              "└─────────────────────────────────┴────────────────────────┴───────────────┘\n",
              "</pre>\n"
            ],
            "text/plain": [
              "┏━━━━━━━━━━━━━━━━━━━━━━━━━━━━━━━━━┳━━━━━━━━━━━━━━━━━━━━━━━━┳━━━━━━━━━━━━━━━┓\n",
              "┃\u001b[1m \u001b[0m\u001b[1mLayer (type)                   \u001b[0m\u001b[1m \u001b[0m┃\u001b[1m \u001b[0m\u001b[1mOutput Shape          \u001b[0m\u001b[1m \u001b[0m┃\u001b[1m \u001b[0m\u001b[1m      Param #\u001b[0m\u001b[1m \u001b[0m┃\n",
              "┡━━━━━━━━━━━━━━━━━━━━━━━━━━━━━━━━━╇━━━━━━━━━━━━━━━━━━━━━━━━╇━━━━━━━━━━━━━━━┩\n",
              "│ embedding (\u001b[38;5;33mEmbedding\u001b[0m)           │ (\u001b[38;5;45mNone\u001b[0m, \u001b[38;5;34m2500\u001b[0m, \u001b[38;5;34m64\u001b[0m)       │       \u001b[38;5;34m640,000\u001b[0m │\n",
              "├─────────────────────────────────┼────────────────────────┼───────────────┤\n",
              "│ bidirectional (\u001b[38;5;33mBidirectional\u001b[0m)   │ (\u001b[38;5;45mNone\u001b[0m, \u001b[38;5;34m2500\u001b[0m, \u001b[38;5;34m128\u001b[0m)      │        \u001b[38;5;34m66,048\u001b[0m │\n",
              "├─────────────────────────────────┼────────────────────────┼───────────────┤\n",
              "│ bidirectional_1 (\u001b[38;5;33mBidirectional\u001b[0m) │ (\u001b[38;5;45mNone\u001b[0m, \u001b[38;5;34m64\u001b[0m)             │        \u001b[38;5;34m41,216\u001b[0m │\n",
              "├─────────────────────────────────┼────────────────────────┼───────────────┤\n",
              "│ dense (\u001b[38;5;33mDense\u001b[0m)                   │ (\u001b[38;5;45mNone\u001b[0m, \u001b[38;5;34m64\u001b[0m)             │         \u001b[38;5;34m4,160\u001b[0m │\n",
              "├─────────────────────────────────┼────────────────────────┼───────────────┤\n",
              "│ dense_1 (\u001b[38;5;33mDense\u001b[0m)                 │ (\u001b[38;5;45mNone\u001b[0m, \u001b[38;5;34m4\u001b[0m)              │           \u001b[38;5;34m260\u001b[0m │\n",
              "└─────────────────────────────────┴────────────────────────┴───────────────┘\n"
            ]
          },
          "metadata": {},
          "output_type": "display_data"
        },
        {
          "data": {
            "text/html": [
              "<pre style=\"white-space:pre;overflow-x:auto;line-height:normal;font-family:Menlo,'DejaVu Sans Mono',consolas,'Courier New',monospace\"><span style=\"font-weight: bold\"> Total params: </span><span style=\"color: #00af00; text-decoration-color: #00af00\">751,684</span> (2.87 MB)\n",
              "</pre>\n"
            ],
            "text/plain": [
              "\u001b[1m Total params: \u001b[0m\u001b[38;5;34m751,684\u001b[0m (2.87 MB)\n"
            ]
          },
          "metadata": {},
          "output_type": "display_data"
        },
        {
          "data": {
            "text/html": [
              "<pre style=\"white-space:pre;overflow-x:auto;line-height:normal;font-family:Menlo,'DejaVu Sans Mono',consolas,'Courier New',monospace\"><span style=\"font-weight: bold\"> Trainable params: </span><span style=\"color: #00af00; text-decoration-color: #00af00\">751,684</span> (2.87 MB)\n",
              "</pre>\n"
            ],
            "text/plain": [
              "\u001b[1m Trainable params: \u001b[0m\u001b[38;5;34m751,684\u001b[0m (2.87 MB)\n"
            ]
          },
          "metadata": {},
          "output_type": "display_data"
        },
        {
          "data": {
            "text/html": [
              "<pre style=\"white-space:pre;overflow-x:auto;line-height:normal;font-family:Menlo,'DejaVu Sans Mono',consolas,'Courier New',monospace\"><span style=\"font-weight: bold\"> Non-trainable params: </span><span style=\"color: #00af00; text-decoration-color: #00af00\">0</span> (0.00 B)\n",
              "</pre>\n"
            ],
            "text/plain": [
              "\u001b[1m Non-trainable params: \u001b[0m\u001b[38;5;34m0\u001b[0m (0.00 B)\n"
            ]
          },
          "metadata": {},
          "output_type": "display_data"
        }
      ],
      "source": [
        "model.summary()"
      ]
    },
    {
      "cell_type": "code",
      "execution_count": 12,
      "metadata": {
        "id": "1YQXbl_XwuYr"
      },
      "outputs": [],
      "source": [
        "# Training\n",
        "model.compile(loss='categorical_crossentropy', optimizer='adam', metrics=['accuracy']) # Compile the model\n",
        "\n",
        "train_data['coded_label'] = train_data['label'].map({'student': 0, 'research': 1, 'corporate': 2, 'Other': 3}) # Map the labels to integers\n",
        "test_data['coded_label'] = test_data['label'].map({'student': 0, 'research': 1, 'corporate': 2, 'Other': 3}) # Map the labels to integers\n",
        "\n",
        "train_data['coded_label'] = pd.Categorical(train_data['coded_label'], categories = [0, 1, 2, 3]) # Convert the labels to categorical\n",
        "test_data['coded_label'] = pd.Categorical(test_data['coded_label'], categories=[0, 1, 2, 3])# Convert the labels to categorical\n",
        "\n",
        "train_one_hot_labels = pd.get_dummies(train_data['coded_label'], dummy_na = False).values # One-hot encode the labels\n",
        "test_one_hot_labels = pd.get_dummies(test_data['coded_label'], dummy_na = False).values # One-hot encode the labels\n",
        "\n",
        "x_train=[np.asarray(train_data_element).astype(np.int64) for train_data_element in train_data['encoded_data']] # Convert the training data to a numpy array\n",
        "x_test=[np.asarray(test_data_element).astype(np.int64) for test_data_element in test_data['encoded_data']] # Convert the test data to a numpy array\n",
        "\n",
        "y_train=[np.asarray(label).astype(np.int64) for label in train_one_hot_labels] # Convert the training labels to a numpy array\n",
        "y_test=[np.asarray(label).astype(np.int64) for label in test_one_hot_labels] # Convert the test labels to a numpy array\n",
        "\n",
        "# max_len = max(len(seq) for seq in x_train)\n",
        "# pad_len = max(max_len, max(len(seq) for seq in x_test))\n",
        "# x_train = pad_sequences(x_train, padding='post', maxlen = pad_len)\n",
        "# x_test = pad_sequences(x_test, padding='post', maxlen = pad_len)\n",
        "\n",
        "x_train = tf.stack(x_train) # Stack the training data\n",
        "y_train = tf.stack(y_train) \n",
        "x_test = tf.stack(x_test) # Stack the test data\n",
        "y_test = tf.stack(y_test)"
      ]
    },
    {
      "cell_type": "code",
      "execution_count": 14,
      "metadata": {
        "colab": {
          "base_uri": "https://localhost:8080/"
        },
        "id": "uUxWwJwkwuYr",
        "outputId": "2f832d29-10fe-4fd7-bc83-ae546f43354a"
      },
      "outputs": [
        {
          "name": "stdout",
          "output_type": "stream",
          "text": [
            "Training on GPU...\n",
            "Epoch 1/25\n"
          ]
        },
        {
          "name": "stderr",
          "output_type": "stream",
          "text": [
            "2024-10-11 08:46:43.864867: I external/local_xla/xla/stream_executor/cuda/cuda_dnn.cc:531] Loaded cuDNN version 8902\n"
          ]
        },
        {
          "name": "stdout",
          "output_type": "stream",
          "text": [
            "\u001b[1m79/79\u001b[0m \u001b[32m━━━━━━━━━━━━━━━━━━━━\u001b[0m\u001b[37m\u001b[0m \u001b[1m19s\u001b[0m 193ms/step - accuracy: 0.5681 - loss: 0.9955 - val_accuracy: 0.8220 - val_loss: 0.5427\n",
            "Epoch 2/25\n",
            "\u001b[1m79/79\u001b[0m \u001b[32m━━━━━━━━━━━━━━━━━━━━\u001b[0m\u001b[37m\u001b[0m \u001b[1m15s\u001b[0m 188ms/step - accuracy: 0.8480 - loss: 0.4803 - val_accuracy: 0.8300 - val_loss: 0.5099\n",
            "Epoch 3/25\n",
            "\u001b[1m79/79\u001b[0m \u001b[32m━━━━━━━━━━━━━━━━━━━━\u001b[0m\u001b[37m\u001b[0m \u001b[1m15s\u001b[0m 187ms/step - accuracy: 0.8930 - loss: 0.3670 - val_accuracy: 0.8300 - val_loss: 0.5459\n",
            "Epoch 4/25\n",
            "\u001b[1m79/79\u001b[0m \u001b[32m━━━━━━━━━━━━━━━━━━━━\u001b[0m\u001b[37m\u001b[0m \u001b[1m15s\u001b[0m 187ms/step - accuracy: 0.9126 - loss: 0.3166 - val_accuracy: 0.8260 - val_loss: 0.5789\n",
            "Epoch 5/25\n",
            "\u001b[1m79/79\u001b[0m \u001b[32m━━━━━━━━━━━━━━━━━━━━\u001b[0m\u001b[37m\u001b[0m \u001b[1m15s\u001b[0m 188ms/step - accuracy: 0.9272 - loss: 0.2589 - val_accuracy: 0.8400 - val_loss: 0.5706\n",
            "Epoch 6/25\n",
            "\u001b[1m79/79\u001b[0m \u001b[32m━━━━━━━━━━━━━━━━━━━━\u001b[0m\u001b[37m\u001b[0m \u001b[1m15s\u001b[0m 188ms/step - accuracy: 0.9382 - loss: 0.2034 - val_accuracy: 0.8320 - val_loss: 0.5427\n",
            "Epoch 7/25\n",
            "\u001b[1m79/79\u001b[0m \u001b[32m━━━━━━━━━━━━━━━━━━━━\u001b[0m\u001b[37m\u001b[0m \u001b[1m15s\u001b[0m 187ms/step - accuracy: 0.9429 - loss: 0.1890 - val_accuracy: 0.8320 - val_loss: 0.5596\n",
            "Epoch 8/25\n",
            "\u001b[1m79/79\u001b[0m \u001b[32m━━━━━━━━━━━━━━━━━━━━\u001b[0m\u001b[37m\u001b[0m \u001b[1m15s\u001b[0m 188ms/step - accuracy: 0.9388 - loss: 0.1871 - val_accuracy: 0.8280 - val_loss: 0.6027\n",
            "Epoch 9/25\n",
            "\u001b[1m79/79\u001b[0m \u001b[32m━━━━━━━━━━━━━━━━━━━━\u001b[0m\u001b[37m\u001b[0m \u001b[1m15s\u001b[0m 188ms/step - accuracy: 0.9477 - loss: 0.1481 - val_accuracy: 0.8040 - val_loss: 0.6778\n",
            "Epoch 10/25\n",
            "\u001b[1m79/79\u001b[0m \u001b[32m━━━━━━━━━━━━━━━━━━━━\u001b[0m\u001b[37m\u001b[0m \u001b[1m15s\u001b[0m 187ms/step - accuracy: 0.9441 - loss: 0.1486 - val_accuracy: 0.8240 - val_loss: 0.7114\n",
            "Epoch 11/25\n",
            "\u001b[1m79/79\u001b[0m \u001b[32m━━━━━━━━━━━━━━━━━━━━\u001b[0m\u001b[37m\u001b[0m \u001b[1m15s\u001b[0m 187ms/step - accuracy: 0.9442 - loss: 0.1455 - val_accuracy: 0.8220 - val_loss: 0.7076\n",
            "Epoch 12/25\n",
            "\u001b[1m79/79\u001b[0m \u001b[32m━━━━━━━━━━━━━━━━━━━━\u001b[0m\u001b[37m\u001b[0m \u001b[1m15s\u001b[0m 188ms/step - accuracy: 0.9534 - loss: 0.1094 - val_accuracy: 0.8200 - val_loss: 0.7765\n",
            "Epoch 13/25\n",
            "\u001b[1m79/79\u001b[0m \u001b[32m━━━━━━━━━━━━━━━━━━━━\u001b[0m\u001b[37m\u001b[0m \u001b[1m15s\u001b[0m 187ms/step - accuracy: 0.9515 - loss: 0.1099 - val_accuracy: 0.7820 - val_loss: 0.8272\n",
            "Epoch 14/25\n",
            "\u001b[1m79/79\u001b[0m \u001b[32m━━━━━━━━━━━━━━━━━━━━\u001b[0m\u001b[37m\u001b[0m \u001b[1m15s\u001b[0m 188ms/step - accuracy: 0.9482 - loss: 0.1123 - val_accuracy: 0.8080 - val_loss: 0.7470\n",
            "Epoch 15/25\n",
            "\u001b[1m79/79\u001b[0m \u001b[32m━━━━━━━━━━━━━━━━━━━━\u001b[0m\u001b[37m\u001b[0m \u001b[1m15s\u001b[0m 187ms/step - accuracy: 0.9451 - loss: 0.1221 - val_accuracy: 0.7880 - val_loss: 0.7950\n",
            "Epoch 16/25\n",
            "\u001b[1m79/79\u001b[0m \u001b[32m━━━━━━━━━━━━━━━━━━━━\u001b[0m\u001b[37m\u001b[0m \u001b[1m15s\u001b[0m 187ms/step - accuracy: 0.9548 - loss: 0.1029 - val_accuracy: 0.7980 - val_loss: 0.8895\n",
            "Epoch 17/25\n",
            "\u001b[1m79/79\u001b[0m \u001b[32m━━━━━━━━━━━━━━━━━━━━\u001b[0m\u001b[37m\u001b[0m \u001b[1m15s\u001b[0m 187ms/step - accuracy: 0.9448 - loss: 0.1124 - val_accuracy: 0.8000 - val_loss: 0.8679\n",
            "Epoch 18/25\n",
            "\u001b[1m79/79\u001b[0m \u001b[32m━━━━━━━━━━━━━━━━━━━━\u001b[0m\u001b[37m\u001b[0m \u001b[1m15s\u001b[0m 188ms/step - accuracy: 0.9539 - loss: 0.1059 - val_accuracy: 0.8200 - val_loss: 0.8756\n",
            "Epoch 19/25\n",
            "\u001b[1m79/79\u001b[0m \u001b[32m━━━━━━━━━━━━━━━━━━━━\u001b[0m\u001b[37m\u001b[0m \u001b[1m15s\u001b[0m 187ms/step - accuracy: 0.9571 - loss: 0.1013 - val_accuracy: 0.8040 - val_loss: 0.9464\n",
            "Epoch 20/25\n",
            "\u001b[1m79/79\u001b[0m \u001b[32m━━━━━━━━━━━━━━━━━━━━\u001b[0m\u001b[37m\u001b[0m \u001b[1m15s\u001b[0m 188ms/step - accuracy: 0.9572 - loss: 0.0859 - val_accuracy: 0.8020 - val_loss: 0.9549\n",
            "Epoch 21/25\n",
            "\u001b[1m79/79\u001b[0m \u001b[32m━━━━━━━━━━━━━━━━━━━━\u001b[0m\u001b[37m\u001b[0m \u001b[1m15s\u001b[0m 188ms/step - accuracy: 0.9596 - loss: 0.0816 - val_accuracy: 0.7920 - val_loss: 0.9833\n",
            "Epoch 22/25\n",
            "\u001b[1m79/79\u001b[0m \u001b[32m━━━━━━━━━━━━━━━━━━━━\u001b[0m\u001b[37m\u001b[0m \u001b[1m15s\u001b[0m 188ms/step - accuracy: 0.9595 - loss: 0.0856 - val_accuracy: 0.7980 - val_loss: 0.9560\n",
            "Epoch 23/25\n",
            "\u001b[1m79/79\u001b[0m \u001b[32m━━━━━━━━━━━━━━━━━━━━\u001b[0m\u001b[37m\u001b[0m \u001b[1m15s\u001b[0m 187ms/step - accuracy: 0.9728 - loss: 0.0681 - val_accuracy: 0.7900 - val_loss: 0.9759\n",
            "Epoch 24/25\n",
            "\u001b[1m79/79\u001b[0m \u001b[32m━━━━━━━━━━━━━━━━━━━━\u001b[0m\u001b[37m\u001b[0m \u001b[1m15s\u001b[0m 187ms/step - accuracy: 0.9591 - loss: 0.0801 - val_accuracy: 0.7720 - val_loss: 1.0606\n",
            "Epoch 25/25\n",
            "\u001b[1m79/79\u001b[0m \u001b[32m━━━━━━━━━━━━━━━━━━━━\u001b[0m\u001b[37m\u001b[0m \u001b[1m15s\u001b[0m 187ms/step - accuracy: 0.9587 - loss: 0.0787 - val_accuracy: 0.8020 - val_loss: 1.0154\n"
          ]
        }
      ],
      "source": [
        "if tf.config.list_physical_devices('GPU'): # Check if GPU is available\n",
        "    print(\"Training on GPU...\")\n",
        "else:\n",
        "    print(\"GPU not available, training on CPU...\")\n",
        "history = model.fit(x_train, y_train, epochs=num_epochs, validation_data = (x_test, y_test)) # Train the model"
      ]
    },
    {
      "cell_type": "code",
      "execution_count": 15,
      "metadata": {
        "id": "m45kVdZmwuYr"
      },
      "outputs": [
        {
          "data": {
            "image/png": "[encoded data removed]",
            "text/plain": [
              "<Figure size 800x400 with 2 Axes>"
            ]
          },
          "metadata": {},
          "output_type": "display_data"
        }
      ],
      "source": [
        "from matplotlib import pyplot as plt\n",
        "\n",
        "history_dict = history.history\n",
        "\n",
        "# Seperating validation and training accuracy\n",
        "acc = history_dict['accuracy']\n",
        "val_acc = history_dict['val_accuracy']\n",
        "\n",
        "# Seperating validation and training loss\n",
        "loss = history_dict['loss']\n",
        "val_loss = history_dict['val_loss']\n",
        "\n",
        "# Plotting\n",
        "plt.figure(figsize=(8, 4))\n",
        "\n",
        "plt.subplot(1, 2, 1)\n",
        "plt.plot(acc)\n",
        "plt.plot(val_acc)\n",
        "plt.title('Training and Validation Accuracy')\n",
        "plt.xlabel('Epochs')\n",
        "plt.ylabel('Accuracy')\n",
        "plt.legend(['Accuracy', 'Validation Accuracy'])\n",
        "\n",
        "plt.subplot(1, 2, 2)\n",
        "plt.plot(loss)\n",
        "plt.plot(val_loss)\n",
        "plt.title('Training and Validation Loss')\n",
        "plt.xlabel('Epochs')\n",
        "plt.ylabel('Loss')\n",
        "plt.legend(['Loss', 'Validation Loss'])\n",
        "\n",
        "plt.show()"
      ]
    },
    {
      "cell_type": "code",
      "execution_count": 16,
      "metadata": {
        "id": "wRB3OALowuYr"
      },
      "outputs": [
        {
          "name": "stdout",
          "output_type": "stream",
          "text": [
            "\u001b[1m16/16\u001b[0m \u001b[32m━━━━━━━━━━━━━━━━━━━━\u001b[0m\u001b[37m\u001b[0m \u001b[1m1s\u001b[0m 56ms/step\n"
          ]
        }
      ],
      "source": [
        "pred = model.predict(x_test) # Predict the test data\n",
        "pred_labels = np.argmax(pred, axis=1)\n",
        "test_data['Predicted_Label'] = pred_labels"
      ]
    },
    {
      "cell_type": "code",
      "execution_count": 17,
      "metadata": {
        "id": "BntaGuVO6bG9"
      },
      "outputs": [
        {
          "name": "stdout",
          "output_type": "stream",
          "text": [
            "\u001b[1m 6/79\u001b[0m \u001b[32m━\u001b[0m\u001b[37m━━━━━━━━━━━━━━━━━━━\u001b[0m \u001b[1m5s\u001b[0m 78ms/step"
          ]
        },
        {
          "name": "stdout",
          "output_type": "stream",
          "text": [
            "\u001b[1m79/79\u001b[0m \u001b[32m━━━━━━━━━━━━━━━━━━━━\u001b[0m\u001b[37m\u001b[0m \u001b[1m7s\u001b[0m 79ms/step\n"
          ]
        }
      ],
      "source": [
        "pred = model.predict(x_train) # Predict the training data\n",
        "pred_labels = np.argmax(pred, axis=1)\n",
        "train_data['Predicted_Label'] = pred_labels"
      ]
    },
    {
      "cell_type": "code",
      "execution_count": 18,
      "metadata": {
        "id": "uRaHgZUXwuYr"
      },
      "outputs": [
        {
          "name": "stdout",
          "output_type": "stream",
          "text": [
            "Precision: 0.8155301056853235\n",
            "Recall: 0.802\n",
            "Confusion Matrix:\n",
            "[[ 85   9  24   5]\n",
            " [  3 150  11   1]\n",
            " [ 18  11 166  10]\n",
            " [  0   1   6   0]]\n"
          ]
        }
      ],
      "source": [
        "y_true = test_data['coded_label']\n",
        "y_pred = test_data['Predicted_Label']\n",
        "\n",
        "# precision\n",
        "precision = precision_score(y_true, y_pred, average='weighted')\n",
        "print(f'Precision: {precision}')\n",
        "\n",
        "#  recall\n",
        "recall = recall_score(y_true, y_pred, average='weighted')\n",
        "print(f'Recall: {recall}')\n",
        "\n",
        "# confusion matrix\n",
        "conf_matrix = confusion_matrix(y_true, y_pred)\n",
        "print(f'Confusion Matrix:\\n{conf_matrix}')"
      ]
    },
    {
      "cell_type": "code",
      "execution_count": 19,
      "metadata": {
        "id": "5UhNGnVa8JD7"
      },
      "outputs": [
        {
          "name": "stdout",
          "output_type": "stream",
          "text": [
            "Precision: 0.9666638087981526\n",
            "Recall: 0.966\n",
            "Confusion Matrix:\n",
            "[[ 465    4   30    4]\n",
            " [   3  898   21    0]\n",
            " [   2   15 1023    2]\n",
            " [   0    1    3   29]]\n"
          ]
        }
      ],
      "source": [
        "y_true = train_data['coded_label']\n",
        "y_pred = train_data['Predicted_Label']\n",
        "\n",
        "# precision\n",
        "precision = precision_score(y_true, y_pred, average='weighted')\n",
        "print(f'Precision: {precision}')\n",
        "\n",
        "#  recall\n",
        "recall = recall_score(y_true, y_pred, average='weighted')\n",
        "print(f'Recall: {recall}')\n",
        "\n",
        "# confusion matrix\n",
        "conf_matrix = confusion_matrix(y_true, y_pred)\n",
        "print(f'Confusion Matrix:\\n{conf_matrix}')"
      ]
    },
    {
      "cell_type": "code",
      "execution_count": 20,
      "metadata": {},
      "outputs": [],
      "source": [
        "model.save('best_scratch_model.keras') # Save the model"
      ]
    },
    {
      "cell_type": "code",
      "execution_count": null,
      "metadata": {},
      "outputs": [],
      "source": [
        "def predict_using_scratch_model(body, model, encoder):\n",
        "    def semi_clean_data(data):\n",
        "        semi_clean_data = []\n",
        "        for i in range(len(data)):\n",
        "            email_body = str(data['body'][i]) # Extract the email body\n",
        "            email_body = unescape(email_body)  # Convert HTML entities to unicode\n",
        "            email_body = BeautifulSoup(email_body) # Remove HTML tags\n",
        "            semi_clean_email_body = email_body.get_text() # Extract the text from the email body\n",
        "            semi_clean_data.append(semi_clean_email_body)\n",
        "        return semi_clean_data\n",
        "    \n",
        "    def clean_data(data):\n",
        "        clean_data = []\n",
        "        nlp = spacy.load('en_core_web_sm') # Load the English model for spacy\n",
        "        for i in range(len(data)):\n",
        "            semi_clean_email_body = data['semi_clean_body'][i]\n",
        "            tokens_no_sw = [token for token in simple_preprocess(semi_clean_email_body) if token not in gensim.parsing.preprocessing.STOPWORDS] # Remove stopwords\n",
        "            clean_email_body = nlp(\" \".join(tokens_no_sw)) # Lemmatize the email body\n",
        "            clean_data.append(str(clean_email_body))\n",
        "        return clean_data\n",
        "    \n",
        "    data = {'body': body}\n",
        "    df = pd.DataFrame(data, index=[0])\n",
        "    semi_clean_test_data = semi_clean_data(df) # Semi-clean the test data\n",
        "    df['semi_clean_body'] = semi_clean_test_data\n",
        "    clean_test_data = clean_data(df) # Clean the test data\n",
        "    df['clean_body'] = clean_test_data # Clean the test data\n",
        "    df['encoded_data'] = encoder(df['clean_body'].values).numpy().tolist() # Encode the test data\n",
        "    x_test=[np.asarray(test_data_element).astype(np.int64) for test_data_element in df['encoded_data']] # Convert the test data to a numpy array\n",
        "    x_test = tf.stack(x_test) # Stack the test data\n",
        "\n",
        "    predicted_label = model.predict(x_test)\n",
        "    predicted_label = np.argmax(predicted_label)\n",
        "\n",
        "    codes = {0: 'student', 1: 'research', 2: 'corporate', 3: 'Other'}\n",
        "    return codes[predicted_label]"
      ]
    },
    {
      "cell_type": "code",
      "execution_count": null,
      "metadata": {},
      "outputs": [],
      "source": [
        "#Model\n",
        "new_model = tf.keras.Sequential([\n",
        "    tf.keras.layers.Embedding(input_dim=10000, output_dim=64, input_shape=(None, )), # Embedding layer\n",
        "    tf.keras.layers.Bidirectional(tf.keras.layers.LSTM(64, return_sequences=True)), # Bidirectional LSTM layer\n",
        "    tf.keras.layers.Bidirectional(tf.keras.layers.LSTM(32)), # Bidirectional LSTM layer\n",
        "    tf.keras.layers.Dense(64, activation='relu'), # Dense layer\n",
        "    tf.keras.layers.Dense(4, activation='softmax') # Dense Output layer\n",
        "])\n",
        "\n",
        "new_model.load_weights(\"best_scratch_model.keras\")\n",
        "\n",
        "from_disk = pickle.load(open(\"tv_layer.pkl\", \"rb\")) \n",
        "new_encoder = tf.keras.layers.TextVectorization.from_config(from_disk['config'])\n",
        "new_encoder.adapt(tf.data.Dataset.from_tensor_slices([\"xyz\"]))\n",
        "new_encoder.set_weights(from_disk['weights'])"
      ]
    },
    {
      "cell_type": "code",
      "execution_count": null,
      "metadata": {},
      "outputs": [],
      "source": [
        "email_body = \"Hello Please provide me the course content\"\n",
        "predicted_label = predict_using_scratch_model(email_body, new_model, new_encoder)"
      ]
    }
  ],
  "metadata": {
    "accelerator": "GPU",
    "colab": {
      "gpuType": "T4",
      "provenance": []
    },
    "kernelspec": {
      "display_name": "Python 3",
      "name": "python3"
    },
    "language_info": {
      "codemirror_mode": {
        "name": "ipython",
        "version": 3
      },
      "file_extension": ".py",
      "mimetype": "text/x-python",
      "name": "python",
      "nbconvert_exporter": "python",
      "pygments_lexer": "ipython3",
      "version": "3.10.0"
    }
  },
  "nbformat": 4,
  "nbformat_minor": 0
}
